{
 "cells": [
  {
   "cell_type": "code",
   "execution_count": 1,
   "metadata": {},
   "outputs": [],
   "source": [
    "import numpy as np \n",
    "import pandas as pd \n",
    "from sklearn.linear_model import LinearRegression\n",
    "import matplotlib.pyplot as plt \n",
    "import seaborn as sns"
   ]
  },
  {
   "cell_type": "markdown",
   "metadata": {},
   "source": [
    "# Why is this important: \n",
    "We want to preserve the information of the (non-)missing data,  \n",
    "but avoid lowerering samples size or the introduction of biases\n",
    "\n",
    "**Important**: the reason for missingness determines how to handle them!"
   ]
  },
  {
   "cell_type": "code",
   "execution_count": 2,
   "metadata": {
    "scrolled": true
   },
   "outputs": [
    {
     "data": {
      "text/html": [
       "<div>\n",
       "<style scoped>\n",
       "    .dataframe tbody tr th:only-of-type {\n",
       "        vertical-align: middle;\n",
       "    }\n",
       "\n",
       "    .dataframe tbody tr th {\n",
       "        vertical-align: top;\n",
       "    }\n",
       "\n",
       "    .dataframe thead th {\n",
       "        text-align: right;\n",
       "    }\n",
       "</style>\n",
       "<table border=\"1\" class=\"dataframe\">\n",
       "  <thead>\n",
       "    <tr style=\"text-align: right;\">\n",
       "      <th></th>\n",
       "      <th>income</th>\n",
       "      <th>happiness</th>\n",
       "      <th>gender</th>\n",
       "    </tr>\n",
       "  </thead>\n",
       "  <tbody>\n",
       "    <tr>\n",
       "      <th>0</th>\n",
       "      <td>3.624345</td>\n",
       "      <td>2.565023</td>\n",
       "      <td>0</td>\n",
       "    </tr>\n",
       "    <tr>\n",
       "      <th>1</th>\n",
       "      <td>1.388244</td>\n",
       "      <td>-1.391326</td>\n",
       "      <td>0</td>\n",
       "    </tr>\n",
       "    <tr>\n",
       "      <th>2</th>\n",
       "      <td>1.471828</td>\n",
       "      <td>1.611856</td>\n",
       "      <td>0</td>\n",
       "    </tr>\n",
       "    <tr>\n",
       "      <th>3</th>\n",
       "      <td>0.927031</td>\n",
       "      <td>0.371241</td>\n",
       "      <td>0</td>\n",
       "    </tr>\n",
       "    <tr>\n",
       "      <th>4</th>\n",
       "      <td>2.865408</td>\n",
       "      <td>0.637979</td>\n",
       "      <td>0</td>\n",
       "    </tr>\n",
       "  </tbody>\n",
       "</table>\n",
       "</div>"
      ],
      "text/plain": [
       "     income  happiness  gender\n",
       "0  3.624345   2.565023       0\n",
       "1  1.388244  -1.391326       0\n",
       "2  1.471828   1.611856       0\n",
       "3  0.927031   0.371241       0\n",
       "4  2.865408   0.637979       0"
      ]
     },
     "execution_count": 2,
     "metadata": {},
     "output_type": "execute_result"
    }
   ],
   "source": [
    "#skill = np.random.normal(size = 500)\n",
    "np.random.seed(1)\n",
    "n = 1000\n",
    "income_male = np.random.normal(size = int(n/2)) + 2\n",
    "income_female = np.random.normal(size = int(n/2)) \n",
    "income = np.concatenate((income_male, income_female))\n",
    "gender = np.array([0]*int(n/2) + [1]*int(n/2))\n",
    "noise = np.random.normal(size = n)\n",
    "\n",
    "happiness = 0.75 * income + noise\n",
    "\n",
    "df = pd.DataFrame({\n",
    "    'income': income,\n",
    "    'happiness': happiness,\n",
    "    'gender': gender\n",
    "})\n",
    "df.head()"
   ]
  },
  {
   "cell_type": "code",
   "execution_count": 3,
   "metadata": {},
   "outputs": [],
   "source": [
    "def impute_random(arr_in): \n",
    "    arr = arr_in.copy() # to not change the input\n",
    "    arr_is_nan = np.isnan(arr) # 1 if nan else 0\n",
    "    n_nan = sum(arr_is_nan)\n",
    "    arr_without_nan = arr[arr_is_nan==False] \n",
    "    arr_fill = np.random.choice(arr_without_nan, size=n_nan)\n",
    "    arr[arr_is_nan] = arr_fill\n",
    "    return arr"
   ]
  },
  {
   "cell_type": "markdown",
   "metadata": {},
   "source": [
    "# 1) Missingness completely at random (MCAR)"
   ]
  },
  {
   "cell_type": "markdown",
   "metadata": {},
   "source": [
    "Reason for missing: unrelated to **any** characteristics/responses of subject   \n",
    "Handling: complete-case analysis (Dropping) allowed,  \n",
    "          imputation better estimation  \n",
    "How common: very rare \n",
    "Assessing assumption: same dist in y for x complete vs x uncomplete"
   ]
  },
  {
   "cell_type": "code",
   "execution_count": 4,
   "metadata": {},
   "outputs": [],
   "source": [
    "df_mcar = df.copy()\n",
    "chosen_values = np.random.choice(\n",
    "    a=[False,True], size=len(df_mcar), p=[0.8, 0.2])  # selector for nans later\n",
    "df_mcar.loc[chosen_values,'income'] = np.nan # adding nans to the selected/chosen values"
   ]
  },
  {
   "cell_type": "code",
   "execution_count": 5,
   "metadata": {},
   "outputs": [
    {
     "ename": "SyntaxError",
     "evalue": "invalid character in identifier (<ipython-input-5-57a9406fe966>, line 4)",
     "output_type": "error",
     "traceback": [
      "\u001b[0;36m  File \u001b[0;32m\"<ipython-input-5-57a9406fe966>\"\u001b[0;36m, line \u001b[0;32m4\u001b[0m\n\u001b[0;31m    sns.kdeplot(df_mcar.dro‚pna().loc[:,'income'], label='dropped', ax=ax[0])\u001b[0m\n\u001b[0m                              ^\u001b[0m\n\u001b[0;31mSyntaxError\u001b[0m\u001b[0;31m:\u001b[0m invalid character in identifier\n"
     ]
    }
   ],
   "source": [
    "fig, ax = plt.subplots(1,2,figsize=[16,6])\n",
    "\n",
    "sns.kdeplot(df.income, label='orginal', ax=ax[0])\n",
    "sns.kdeplot(df_mcar.dro‚pna().loc[:,'income'], label='dropped', ax=ax[0])\n",
    "sns.kdeplot(impute_random(df_mcar.income), label='random imputation', ax=ax[0])\n",
    "ax[0].set_title('Distribution of x(income)')\n",
    "\n",
    "sns.kdeplot(df.happiness, label='orginal', ax=ax[1])\n",
    "sns.kdeplot(df_mcar.dropna().loc[:,'happiness'], label='dropped', ax=ax[1])\n",
    "sns.kdeplot(impute_random(df_mcar.happiness), label='random imputation', ax=ax[1])\n",
    "ax[1].set_title('Distribution of y(happiness)')\n",
    "\n",
    "None"
   ]
  },
  {
   "cell_type": "markdown",
   "metadata": {},
   "source": [
    "# 2) Missing at random (MAR) "
   ]
  },
  {
   "cell_type": "markdown",
   "metadata": {},
   "source": [
    "Reason for missing: depends **only** on the observed data (not on unobserved)   \n",
    "Handling: imputation needed basted on observed data   \n",
    "How common: very common  \n",
    "Problem: We usually cannot know it does not depend on unobserved as well!  "
   ]
  },
  {
   "cell_type": "markdown",
   "metadata": {},
   "source": [
    "### Example:\n",
    "Same data as before, but this time only men have missing values!  "
   ]
  },
  {
   "cell_type": "code",
   "execution_count": null,
   "metadata": {},
   "outputs": [],
   "source": [
    "# excluding data:\n",
    "df_mar = df.copy()\n",
    "chosen_values = np.random.choice(\n",
    "    a=[False,True], size=int(len(df_mar)/2), p=[0.6, 0.4]) # as many values are missing as before but only in men\n",
    "chosen_values = np.concatenate((chosen_values, [False]*int(n/2)))\n",
    "df_mar.loc[chosen_values,'income'] = np.nan"
   ]
  },
  {
   "cell_type": "code",
   "execution_count": null,
   "metadata": {},
   "outputs": [],
   "source": [
    "# plotting:\n",
    "fig, ax = plt.subplots(2,2,figsize=[16,8])\n",
    "[sns.kdeplot(df.income, label='all', ax=ax[i][ii])\n",
    " for i in range(2)\n",
    " for ii in range(2)\n",
    "]\n",
    "sns.kdeplot(df_mar.dropna().happiness,\n",
    "            label='dropped_missing', ax=ax[0][1])\n",
    "sns.kdeplot(df_mar.income.fillna(\n",
    "    df_mar.income.mean()), label='mean_imputation', ax=ax[1][0])\n",
    "sns.kdeplot(impute_random(df_mar.income.values),\n",
    "            label = 'random_imputation',\n",
    "            ax = ax[1][1])\n",
    "\n",
    "# adding imputation but only for men -> because they have missing values\n",
    "impute_on_male = df_mar.loc[df_mar.gender==0].loc[:,'income']\n",
    "impute_on_male = impute_random(impute_on_male.values)\n",
    "impute_on_male = np.concatenate(\n",
    "    (impute_on_male, df_mar.loc[df_mar.gender==1].loc[:,'income'].values))\n",
    "\n",
    "df_imputed = df_mar.copy()\n",
    "df_imputed.income = impute_on_male\n",
    "sns.kdeplot(df_imputed.income,\n",
    "            label = 'random_imputation_on_male',\n",
    "            ax = ax[1][1])\n",
    "\n",
    "[one_ax.set_title('Distributions of x(income)') \n",
    " for rows in ax \n",
    " for one_ax in rows]\n",
    "None"
   ]
  },
  {
   "cell_type": "markdown",
   "metadata": {},
   "source": [
    "###### Effect on the variables with missing values:  \n",
    "* dropping the rows (Complete-case analysis):  \n",
    "    creates a systematic bias =>  missing values are only in men and these have higher values for income in general.  \n",
    "* Using the mean for imputation => changes the variables distribution drastically! \n",
    "* Random imputation (not dependant on gender) => similar to dropping rows\n",
    "* Random imputation dependant on gender (prediction) => best result, distribution close to the original\n"
   ]
  },
  {
   "cell_type": "markdown",
   "metadata": {},
   "source": [
    "###### WARNING:\n",
    "There is also an effect of dropping rows on the y (happiness):"
   ]
  },
  {
   "cell_type": "code",
   "execution_count": null,
   "metadata": {},
   "outputs": [],
   "source": [
    "# plotting for y\n",
    "sns.kdeplot(df_mar.dropna().happiness, label='drop')\n",
    "sns.kdeplot(df.happiness, label='original')\n",
    "plt.title('Distribution of y(happiness)')\n",
    "None"
   ]
  },
  {
   "cell_type": "markdown",
   "metadata": {},
   "source": [
    "=> dropping rows also distorts the distribution of y itself! \n",
    "This should be prevented!  "
   ]
  },
  {
   "cell_type": "markdown",
   "metadata": {},
   "source": [
    "# 3) Missing Not At Random (MNAR)\n",
    "\n",
    "### A) Nonresponse \n",
    "Reason for missing: the missing values themselves realte to the reson of missing  \n",
    "Examples: \n",
    "* Depession -> to depressed to continue study\n",
    "* very Low/High Income -> don't want to tell \n",
    "\n",
    "Handling: Difficult.   \n",
    "* Sometimes: Using model which can use NaNs for prediction,  \n",
    "* Most of the time: External considerations\n",
    "\n",
    "### B) Unorthodox \n",
    "Reason for missing: other unobserved variables.  \n",
    "Handling: We need to observe them, then we can use them for imputation.  \n",
    "\n",
    "\n",
    "\n",
    "\n",
    "\n"
   ]
  },
  {
   "cell_type": "markdown",
   "metadata": {},
   "source": [
    "##### Problem: finding out that MNAR is happening  "
   ]
  },
  {
   "cell_type": "markdown",
   "metadata": {},
   "source": [
    "# Characterize patterns of missingness\n",
    "\n",
    "We can use exploratory tools: Logistic regression, random forest, clustering!  \n",
    "\n",
    "Example: Logistic regression to predict whether a value is missing or not given other columns. If so assuming MAR is plausible => imputation using prediction"
   ]
  },
  {
   "cell_type": "markdown",
   "metadata": {},
   "source": [
    "#  Imputation: \n",
    "\n",
    "* Mean Imputation: often biases => correlation towards zero     \n",
    "* Median (Modes) Imputation: uses at least actual values from variable  \n",
    "* Simple Random Imputation: keeps distribution from all **non missing** values   \n",
    "* Supervised estimators: complete column -> uncomple column. Adding of randomness to keep variation in predicted values.  \n",
    "* Different iterative Versions of Imputation:  \n",
    "    You can fill the missing columns with preleminary values -> predict other columns and vice versa. Then use the predicted instead of preleminary values.  \n"
   ]
  },
  {
   "cell_type": "code",
   "execution_count": null,
   "metadata": {},
   "outputs": [],
   "source": []
  }
 ],
 "metadata": {
  "kernelspec": {
   "display_name": "Python 3",
   "language": "python",
   "name": "python3"
  },
  "language_info": {
   "codemirror_mode": {
    "name": "ipython",
    "version": 3
   },
   "file_extension": ".py",
   "mimetype": "text/x-python",
   "name": "python",
   "nbconvert_exporter": "python",
   "pygments_lexer": "ipython3",
   "version": "3.7.3"
  }
 },
 "nbformat": 4,
 "nbformat_minor": 2
}
