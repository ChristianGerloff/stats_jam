{
 "cells": [
  {
   "cell_type": "markdown",
   "metadata": {},
   "source": [
    "## Partial Correlation\n",
    "\n",
    "**Christian Gerloff**\n",
    "\n",
    "**Keywords:** multiple regression, confounding, causality, matrix decomposition"
   ]
  },
  {
   "cell_type": "markdown",
   "metadata": {},
   "source": [
    "### Intoduction\n",
    "\n",
    "\n",
    "given a data set $S= \\{X,Y,Z\\}$ containing multiple continuous variables we are interested in analysing the strength of a linear relationship between them\n"
   ]
  },
  {
   "cell_type": "code",
   "execution_count": 1,
   "metadata": {},
   "outputs": [
    {
     "data": {
      "text/html": [
       "<div>\n",
       "<style scoped>\n",
       "    .dataframe tbody tr th:only-of-type {\n",
       "        vertical-align: middle;\n",
       "    }\n",
       "\n",
       "    .dataframe tbody tr th {\n",
       "        vertical-align: top;\n",
       "    }\n",
       "\n",
       "    .dataframe thead th {\n",
       "        text-align: right;\n",
       "    }\n",
       "</style>\n",
       "<table border=\"1\" class=\"dataframe\">\n",
       "  <thead>\n",
       "    <tr style=\"text-align: right;\">\n",
       "      <th></th>\n",
       "      <th>Emotionregulation</th>\n",
       "      <th>Openness</th>\n",
       "      <th>Age</th>\n",
       "    </tr>\n",
       "  </thead>\n",
       "  <tbody>\n",
       "    <tr>\n",
       "      <th>0</th>\n",
       "      <td>8</td>\n",
       "      <td>5</td>\n",
       "      <td>42</td>\n",
       "    </tr>\n",
       "    <tr>\n",
       "      <th>1</th>\n",
       "      <td>9</td>\n",
       "      <td>2</td>\n",
       "      <td>47</td>\n",
       "    </tr>\n",
       "    <tr>\n",
       "      <th>2</th>\n",
       "      <td>8</td>\n",
       "      <td>1</td>\n",
       "      <td>63</td>\n",
       "    </tr>\n",
       "    <tr>\n",
       "      <th>3</th>\n",
       "      <td>8</td>\n",
       "      <td>8</td>\n",
       "      <td>45</td>\n",
       "    </tr>\n",
       "    <tr>\n",
       "      <th>4</th>\n",
       "      <td>3</td>\n",
       "      <td>8</td>\n",
       "      <td>61</td>\n",
       "    </tr>\n",
       "  </tbody>\n",
       "</table>\n",
       "</div>"
      ],
      "text/plain": [
       "   Emotionregulation  Openness  Age\n",
       "0                  8         5   42\n",
       "1                  9         2   47\n",
       "2                  8         1   63\n",
       "3                  8         8   45\n",
       "4                  3         8   61"
      ]
     },
     "execution_count": 1,
     "metadata": {},
     "output_type": "execute_result"
    }
   ],
   "source": [
    "import numpy as np\n",
    "import pandas as pd\n",
    "import matplotlib.pyplot as plt\n",
    "import seaborn as sns\n",
    "from pingouin import partial_corr\n",
    "\n",
    "np.random.seed(1337)\n",
    "df = pd.DataFrame()\n",
    "df['Emotionregulation'] = np.random.randint(1, 10, size=100)\n",
    "df['Openness'] = np.random.randint(1, 10, size=100)\n",
    "df['Age'] = np.random.randint(18, 70, size=100)\n",
    "df.head()"
   ]
  },
  {
   "cell_type": "markdown",
   "metadata": {},
   "source": [
    "We can do this by calculating pairwise the correlation coefficients by:"
   ]
  },
  {
   "cell_type": "markdown",
   "metadata": {},
   "source": [
    "$ Corr = \\begin{bmatrix} \n",
    "\\rho_{x,x} = \\frac{\\text{cov}(X,X)}{\\sigma_x \\sigma_x} &\n",
    "\\rho_{x,y} = \\frac{\\text{cov}(X,Y)}{\\sigma_x \\sigma_y} &\n",
    "\\rho_{x,z} = \\frac{\\text{cov}(X,Z)}{\\sigma_x \\sigma_z} \\\\\n",
    "\\rho_{y,x} = \\frac{\\text{cov}(Y,X)}{\\sigma_y \\sigma_x} &\n",
    "\\rho_{y,y} = \\frac{\\text{cov}(Y,Y)}{\\sigma_y \\sigma_y} &\n",
    "\\rho_{y,z} = \\frac{\\text{cov}(Y,Z)}{\\sigma_y \\sigma_z} \\\\\n",
    "\\rho_{z,x} = \\frac{\\text{cov}(Z,X)}{\\sigma_z \\sigma_x} &\n",
    "\\rho_{z,y} = \\frac{\\text{cov}(Z,Y)}{\\sigma_z \\sigma_y} &\n",
    "\\rho_{z,z} = \\frac{\\text{cov}(Z,Z)}{\\sigma_z \\sigma_z}\n",
    "\\end{bmatrix}$"
   ]
  },
  {
   "cell_type": "code",
   "execution_count": 2,
   "metadata": {},
   "outputs": [
    {
     "data": {
      "image/png": "[encoded data removed]",
      "text/plain": [
       "<Figure size 360x360 with 2 Axes>"
      ]
     },
     "metadata": {
      "needs_background": "light"
     },
     "output_type": "display_data"
    }
   ],
   "source": [
    "def heatMap(cov_mat, mirror = True):\n",
    "    \n",
    "    fig, ax = plt.subplots(figsize=(5, 5))\n",
    "    colormap = sns.diverging_palette(220, 10, as_cmap=True)\n",
    "    if mirror == True:\n",
    "        # Allow annotations and place floats in map\n",
    "        sns.heatmap(cov_mat, cmap=colormap, annot=True, fmt=\".2f\")\n",
    "        plt.show()\n",
    "\n",
    "    else:\n",
    "        # Drop self-correlations\n",
    "        dropSelf = np.zeros_like(cov_mat)\n",
    "        # set diag off set to 1 to include diag\n",
    "        dropSelf[np.triu_indices_from(dropSelf, k = 1)] = True\n",
    "        sns.heatmap(cov_mat, cmap=colormap, annot=True, fmt=\".2f\", mask=dropSelf)\n",
    "    \n",
    "    plt.show()\n",
    "pearson = df.corr()\n",
    "heatMap(pearson)"
   ]
  },
  {
   "cell_type": "markdown",
   "metadata": {},
   "source": [
    "Now, we want to take into account conditions:\n",
    "\n",
    "![alt text](images/confounds.png \"confounds\")"
   ]
  },
  {
   "cell_type": "markdown",
   "metadata": {},
   "source": [
    "Let's bring together the off-diag. coefficients with the condition reprsented in the **path-diagram** use these coefficients to calculate conditioned on an factor the partial correlation given by the formular:\n",
    "$\\rho_{Y,Z|X} = \\frac{\\rho_{Y,Z} - \\rho_{X,Y} \\rho_{Z,X}}{\\sqrt{\\left( 1-\\rho^{2}_{X,Y} \\right) \\left( 1 - \\rho^{2}_{Z,X} \\right) }} =  \\frac{0.1-0.06*0.15}{\\sqrt{\\left( 1-0.06^{2} \\right)\\left( 1 - 0.15^{2} \\right) }} = 0.09$\n",
    "    \n",
    "    \n"
   ]
  },
  {
   "cell_type": "code",
   "execution_count": 3,
   "metadata": {},
   "outputs": [
    {
     "data": {
      "text/html": [
       "<div>\n",
       "<style scoped>\n",
       "    .dataframe tbody tr th:only-of-type {\n",
       "        vertical-align: middle;\n",
       "    }\n",
       "\n",
       "    .dataframe tbody tr th {\n",
       "        vertical-align: top;\n",
       "    }\n",
       "\n",
       "    .dataframe thead th {\n",
       "        text-align: right;\n",
       "    }\n",
       "</style>\n",
       "<table border=\"1\" class=\"dataframe\">\n",
       "  <thead>\n",
       "    <tr style=\"text-align: right;\">\n",
       "      <th></th>\n",
       "      <th>n</th>\n",
       "      <th>r</th>\n",
       "      <th>CI95%</th>\n",
       "      <th>r2</th>\n",
       "      <th>adj_r2</th>\n",
       "      <th>p-val</th>\n",
       "      <th>BF10</th>\n",
       "      <th>power</th>\n",
       "    </tr>\n",
       "  </thead>\n",
       "  <tbody>\n",
       "    <tr>\n",
       "      <th>pearson</th>\n",
       "      <td>100</td>\n",
       "      <td>0.09</td>\n",
       "      <td>[-0.11, 0.28]</td>\n",
       "      <td>0.008</td>\n",
       "      <td>-0.012</td>\n",
       "      <td>0.372732</td>\n",
       "      <td>0.117</td>\n",
       "      <td>0.145</td>\n",
       "    </tr>\n",
       "  </tbody>\n",
       "</table>\n",
       "</div>"
      ],
      "text/plain": [
       "           n     r          CI95%     r2  adj_r2     p-val   BF10  power\n",
       "pearson  100  0.09  [-0.11, 0.28]  0.008  -0.012  0.372732  0.117  0.145"
      ]
     },
     "execution_count": 3,
     "metadata": {},
     "output_type": "execute_result"
    }
   ],
   "source": [
    "partial_corr(data=df, x='Openness', y='Age', covar='Emotionregulation')"
   ]
  },
  {
   "cell_type": "markdown",
   "metadata": {},
   "source": [
    "### Takeaways\n",
    "* If you want to measure data with different levels on scales:\n",
    "\n",
    "* the definition of the part.corr relies on the concentration matrix of a covariance matrix\n",
    "  so you can use other correlation measures such as spearman\n",
    "\n",
    "\n",
    "* is zero if and only if X is conditionally independent from Y given Z.\n",
    "\n",
    "**Underestimated Complexity:** You may not be measuring all confounders. Either because you're not even aware of some, or because you're aware of them but genuinely can't measure their values.\n",
    "\n",
    "**Overestimated Complexity:** You may be controlling for too much. When one wants to make sure all confounders are covered, it's common to simply control for all observable variables, in case they turn out to be confounders.\n"
   ]
  },
  {
   "cell_type": "markdown",
   "metadata": {},
   "source": [
    "## Comparision multiple Linear regression and partial correlation\n",
    "\n",
    "We described above a multiple regression setting. Consequently, the regression coefficient in multiple regression is ~ partial correlation. The difference just comes from the standardization:\n",
    "\n",
    "$\\beta_{Y,Z|X} = \\rho_{Y,Z|X} \\frac{\\sigma_{X,Y}}{ \\sigma_{Z,X}} $\n",
    "\n",
    "So partial correlation is implemented (and it is rare in python) i is just done by fitting a linear regression\n",
    "by:\n",
    "\n",
    "    1) perform a normal linear least-squares regression with Y as the target and X as the predictor\n",
    "    2) calculate the residuals in Step #1\n",
    "    3) perform a normal linear least-squares regression with Z as the target and X as the predictor\n",
    "    4) calculate the residuals in Step #3\n",
    "    5) calculate the correlation coefficient between the residuals from Steps #2 and #4; \n",
    "    The result is the partial correlation between Y and Z while controlling for the effect of X\n",
    "    \n",
    "    (see http://en.wikipedia.org/wiki/Partial_correlation#Using_linear_regression\n",
    "\n",
    "ok, so it's often achieved via regression but can we calculate it in another way?"
   ]
  },
  {
   "cell_type": "markdown",
   "metadata": {},
   "source": [
    "###  Use the power of linear algebra\n",
    "\n",
    "**Can be calculated by cov mat:** by calculating the inverse of this matrix, also termed **concentration or precision matrix** denoted by $C$, we archive a matrix which:\n",
    "\n",
    " * diagonal elements describe how tightly an isolated variable occurs around the mean,\n",
    " * off-diag. elements are representing **to which extend a variable do not correlate/co-vary with the other variables**, \n",
    " * sparsity (we love sparse matrices ;))\n",
    " \n",
    "So conditioning on holding const. all other variables, each off-diag coefficient $-c_{i,j}$ represents the partial covariance between $i$ and $j$. From this, we can easily calculate the partial correlation\n"
   ]
  },
  {
   "cell_type": "code",
   "execution_count": 4,
   "metadata": {},
   "outputs": [
    {
     "data": {
      "image/png": "[encoded data removed]",
      "text/plain": [
       "<Figure size 360x360 with 2 Axes>"
      ]
     },
     "metadata": {
      "needs_background": "light"
     },
     "output_type": "display_data"
    }
   ],
   "source": [
    "concentration_matrix = np.linalg.inv(pearson)\n",
    "heatMap(concentration_matrix)"
   ]
  },
  {
   "cell_type": "markdown",
   "metadata": {},
   "source": [
    "cool! $\\rho_{Y,Z|X} = -c_{2,1}$=0.09"
   ]
  },
  {
   "cell_type": "markdown",
   "metadata": {},
   "source": [
    "### Cholesky Decomposition\n",
    "\n",
    "Inverse problems are often computational expensive so python uses matrix decomposition to simplify matrix operations, let's use Cholesky Decomposition to improve our previous example."
   ]
  },
  {
   "cell_type": "code",
   "execution_count": 5,
   "metadata": {},
   "outputs": [
    {
     "data": {
      "image/png": "[encoded data removed]",
      "text/plain": [
       "<Figure size 360x360 with 2 Axes>"
      ]
     },
     "metadata": {
      "needs_background": "light"
     },
     "output_type": "display_data"
    }
   ],
   "source": [
    "#https://www.quantstart.com/articles/Cholesky-Decomposition-in-Python-and-NumPys\n",
    "L = np.linalg.cholesky(pearson)\n",
    "heatMap(L, False)"
   ]
  },
  {
   "cell_type": "markdown",
   "metadata": {},
   "source": [
    "$\\rho_{Y,Z|X} = 1*0.09$"
   ]
  },
  {
   "cell_type": "markdown",
   "metadata": {},
   "source": [
    "L can be used to obtain the \"regression\" coefficients"
   ]
  },
  {
   "cell_type": "markdown",
   "metadata": {},
   "source": [
    "$ L_{X,Y} = \\begin{bmatrix}\n",
    "    1 &\n",
    "    . & \\\\\n",
    "    L_{1,0} &\n",
    "    L_{1,1}\n",
    "\\end{bmatrix}$"
   ]
  },
  {
   "cell_type": "code",
   "execution_count": 6,
   "metadata": {},
   "outputs": [
    {
     "name": "stdout",
     "output_type": "stream",
     "text": [
      "[[ 1.00000000e+00  0.00000000e+00  0.00000000e+00]\n",
      " [ 3.63688296e-18  1.00000000e+00  0.00000000e+00]\n",
      " [-1.45750651e-01  8.91989322e-02  9.84551341e-01]]\n"
     ]
    }
   ],
   "source": [
    "M = np.linalg.inv(L[0:2,0:2])\n",
    "M = np.hstack([M, [[0],[0]]])\n",
    "M = np.append(M, [[0,0,1]], axis=0)\n",
    "beta = np.dot(L, M)\n",
    "print(beta)"
   ]
  },
  {
   "cell_type": "markdown",
   "metadata": {},
   "source": [
    "### Summary Partial Correlation:\n",
    "\n",
    "* it is a process measuring the strength and also the direction of a linear relationship\n",
    "* is measured between **continuous variables** via a defined correlation \n",
    "* accounts for **confounding** / other potential, influential continuous variables (termed 'covariates')\n",
    "* leads to the same results / p-values as the multiple regression coefficients\n",
    "* can be efficiently implemented via matrix decomposition or regression\n",
    "* can be used to illuminate the emergence of several phenomena in causal analysis such as Simpson paradox but is restricted to homogeneous populations with no interactions.\n"
   ]
  },
  {
   "cell_type": "markdown",
   "metadata": {},
   "source": [
    "## References\n",
    "\n",
    "### Partial Correlation\n",
    "\n",
    "Judea Pearl, Linear Models: A Useful “Microscope” for Causal Analysis:\n",
    "\n",
    "\n",
    "implementation in python (via regression):\n",
    "https://gist.github.com/fabianp/9396204419c7b638d38f\n",
    "\n",
    "\n",
    "### Matrix Decomposition\n",
    "\n",
    "Gilbert Strange, \"Introduction to Linear Algebra\":\n",
    "* http://math.mit.edu/~gs/linearalgebra/\n",
    "    \n",
    "* https://elf-c.he.u-tokyo.ac.jp/courses/110\n",
    "\n",
    "Gene H. Golub and Charles Van Loan, \"Matrix Computations\"\n",
    "    \n",
    "Pratical Examples Matrix Decomposition:\n",
    "\n",
    "* https://people.duke.edu/~ccc14/sta-663/LinearAlgebraMatrixDecompWithSolutions.html\n",
    "* https://www.quantstart.com/articles/Cholesky-Decomposition-in-Python-and-NumPy"
   ]
  }
 ],
 "metadata": {
  "kernelspec": {
   "display_name": "Python 3",
   "language": "python",
   "name": "python3"
  },
  "language_info": {
   "codemirror_mode": {
    "name": "ipython",
    "version": 3
   },
   "file_extension": ".py",
   "mimetype": "text/x-python",
   "name": "python",
   "nbconvert_exporter": "python",
   "pygments_lexer": "ipython3",
   "version": "3.6.7"
  }
 },
 "nbformat": 4,
 "nbformat_minor": 2
}
